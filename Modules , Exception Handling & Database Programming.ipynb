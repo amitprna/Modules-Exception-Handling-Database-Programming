{
 "cells": [
  {
   "cell_type": "code",
   "execution_count": 7,
   "id": "f7e311fc",
   "metadata": {},
   "outputs": [],
   "source": [
    "def div_by_zero():\n",
    "    try:\n",
    "        print(5/0)\n",
    "    except:\n",
    "        print(\"Infinity\")"
   ]
  },
  {
   "cell_type": "code",
   "execution_count": 8,
   "id": "b835e059",
   "metadata": {},
   "outputs": [
    {
     "name": "stdout",
     "output_type": "stream",
     "text": [
      "Infinity\n"
     ]
    }
   ],
   "source": [
    "div_by_zero()"
   ]
  },
  {
   "cell_type": "code",
   "execution_count": 15,
   "id": "0b1d15ae",
   "metadata": {},
   "outputs": [
    {
     "name": "stdout",
     "output_type": "stream",
     "text": [
      "Americans  play Baseball.\n",
      "Americans  play Cricket.\n",
      "Americans  watch Baseball.\n",
      "Americans  watch Cricket.\n",
      "Indians play Baseball.\n",
      "Indians play Cricket.\n",
      "Indians watch Baseball.\n",
      "Indians watch Cricket.\n"
     ]
    }
   ],
   "source": [
    "subjects=[\"Americans \",\"Indians\"]\n",
    "verbs=[\"play\",\"watch\"]\n",
    "objects=[\"Baseball\",\"Cricket\"]\n",
    "\n",
    "list1 = [k+\" \"+j+\" \"+i.strip(\" \")+\".\" for k in subjects for j in verbs for i in objects]\n",
    "\n",
    "for i in list1:\n",
    "    print(i)"
   ]
  },
  {
   "cell_type": "code",
   "execution_count": null,
   "id": "5047ec28",
   "metadata": {},
   "outputs": [],
   "source": []
  }
 ],
 "metadata": {
  "kernelspec": {
   "display_name": "Python 3",
   "language": "python",
   "name": "python3"
  },
  "language_info": {
   "codemirror_mode": {
    "name": "ipython",
    "version": 3
   },
   "file_extension": ".py",
   "mimetype": "text/x-python",
   "name": "python",
   "nbconvert_exporter": "python",
   "pygments_lexer": "ipython3",
   "version": "3.8.8"
  }
 },
 "nbformat": 4,
 "nbformat_minor": 5
}
